{
 "cells": [
  {
   "cell_type": "markdown",
   "metadata": {},
   "source": [
    "<img src=\"img/tote_board.jpg\">"
   ]
  },
  {
   "cell_type": "markdown",
   "metadata": {},
   "source": [
    "# Inference Over RDF Containers\n",
    "\n",
    "## Introduction\n",
    "\n",
    "In a <a href=\"http://ontology2.com/notebooks/local/RDFContainers.html\">previous</a> notebook,  I demonstrated queries and operations over RDF Containers,  one of two ways to represent ordered lists in RDF.\n",
    "\n",
    "This work is motivated by my <a href=\"http://ontology2.com/essays/PropertiesColorsAndThumbnails.html\">analysis of XMP data</a> found on my computer.  XMP data uses Containers heavily,  so I need ways to work with them that roll off my fingers.  I felt the queries in the <a href=\"http://ontology2.com/notebooks/local/RDFContainers.html\">last notebook</a> were a little more complex than they needed to be,  so in this notebook I explore the use of inference to simplify queries and show a set of example queries that illustrate patterns for making queries against RDF Containers.\n",
    "\n",
    "Inference is,  at root,  a simple concept.  Given some set of facts,  we can infer more facts.  In the case of RDF Containers,  we might have the fact that\n",
    "\n",
    "```\n",
    "?list rdf:_7 ?member .\n",
    "```\n",
    "\n",
    "and can infer that\n",
    "\n",
    "```\n",
    "?list rdfs:member ?member .\n",
    "```\n",
    "\n",
    "This makes it easy to write a query such as \"*what lists is ?member a ?member of*\".  This particular example is simple and mechanical,  but more complex inference rules are used in business rules engines to answer questions such as \"*can we ship this product to that customer?*\" or \"*will we extend credit to this customer?*\"\n",
    "\n",
    "This notebook works an example end to end,  including\n",
    "\n",
    "* how to write queries over RDF Containers without inference\n",
    "* two inference rules that simplify queries over RDF Containers\n",
    "* a simple inference engine based on SPARQL\n",
    "* a discussion of more complex inference engine\n",
    "* a cookbook of queries over RDF Containers"
   ]
  },
  {
   "cell_type": "markdown",
   "metadata": {},
   "source": [
    "## Setup\n",
    "\n",
    "Here I import the libraries that I use and configure Pandas."
   ]
  },
  {
   "cell_type": "code",
   "execution_count": 1,
   "metadata": {
    "collapsed": false
   },
   "outputs": [],
   "source": [
    "%load_ext autotime\n",
    "import sys\n",
    "sys.path.append(\"../..\")\n",
    "from gastrodon import *\n",
    "from rdflib import *\n",
    "import pandas as pd\n",
    "pd.options.display.width=120\n",
    "pd.options.display.max_colwidth=100"
   ]
  },
  {
   "cell_type": "markdown",
   "metadata": {
    "collapsed": true
   },
   "source": [
    "## A Day at the races\n",
    "\n",
    "Next I load a small data set to run test queries against:"
   ]
  },
  {
   "cell_type": "code",
   "execution_count": 2,
   "metadata": {
    "collapsed": false
   },
   "outputs": [
    {
     "name": "stdout",
     "output_type": "stream",
     "text": [
      "time: 16.5 ms\n"
     ]
    }
   ],
   "source": [
    "races=inline(r\"\"\"\n",
    "@prefix rdf: <http://www.w3.org/1999/02/22-rdf-syntax-ns#> .\n",
    "@prefix : <http://example.com/> .\n",
    "\n",
    ":tioga_downs_2017_08_14 \n",
    "    a rdf:Seq ;          \n",
    "    rdf:_1 :race_1 ;                \n",
    "    rdf:_2 :race_2 ;                \n",
    "    rdf:_3 :race_3 .                \n",
    "                                    \n",
    ":race_1 \n",
    "    a rdf:Seq ;\n",
    "    rdf:_1 \"PRINCE ADIRAN\" ;        \n",
    "    rdf:_2 \"KDMAKEWAY\" ;            \n",
    "    rdf:_3 \"ANDERSON VALLEY\" ;      \n",
    "    rdf:_4 \"SETTINEMONFIRE\" ;       \n",
    "    rdf:_5 \"TRILLIONAIR\" ;          \n",
    "    rdf:_6 \"OZZY BLUE CHIP\" .       \n",
    "                                    \n",
    ":race_2 \n",
    "    a rdf:Seq ;                            \n",
    "    rdf:_1 \"MACHMEMACKIE\" ;         \n",
    "    rdf:_2 \"FREE LOVE\" ;            \n",
    "    rdf:_3 \"FRANKIES DRAGON\" ;      \n",
    "    rdf:_4 \"IM AN ART MAJOR\" ;      \n",
    "    rdf:_5 \"GOLD STAR SPIKE\" ;      \n",
    "    rdf:_6 \"F TWENTY TWO\" ;         \n",
    "    rdf:_7 \"TAILGUNNER HANOVER\".    \n",
    "                                    \n",
    ":race_3 ; \n",
    "    a rdf:Seq ;                           \n",
    "    rdf:_1 \"LYONS JOHNNY\" ;         \n",
    "    rdf:_2 \"BETTORSLUCKYSTREAK\" ;   \n",
    "    rdf:_3 \"DASH OF DANGER\" ;       \n",
    "    rdf:_4 \"NEPTUNE\" ;               \n",
    "    rdf:_5 \"WINYARD HANOVER\" ;       \n",
    "    rdf:_6 \"DEE'S ROCKETMAN\" .                                           \n",
    "\"\"\")"
   ]
  },
  {
   "cell_type": "markdown",
   "metadata": {},
   "source": [
    "These come from the race results on August 14, 2017 at the Tioga Downs harness racing track.  This is not an example of a great\n",
    "RDF representation of this kind of data,  but data structures like this are often used in scripty programs written in languages such as Python and Lisp.  If you want to imagine what a better representation looks like,  take a look at the source material:\n",
    "\n",
    "<img src=\"race_results.png\">"
   ]
  },
  {
   "cell_type": "markdown",
   "metadata": {},
   "source": [
    "## Queries without inference\n",
    "\n",
    "Suppose we wanted to get a list of all race entries in all races.  The following query does the trick:"
   ]
  },
  {
   "cell_type": "code",
   "execution_count": 3,
   "metadata": {
    "collapsed": false
   },
   "outputs": [
    {
     "data": {
      "text/html": [
       "<div>\n",
       "<table border=\"1\" class=\"dataframe\">\n",
       "  <thead>\n",
       "    <tr style=\"text-align: right;\">\n",
       "      <th></th>\n",
       "      <th>horse</th>\n",
       "    </tr>\n",
       "  </thead>\n",
       "  <tbody>\n",
       "    <tr>\n",
       "      <th>0</th>\n",
       "      <td>KDMAKEWAY</td>\n",
       "    </tr>\n",
       "    <tr>\n",
       "      <th>1</th>\n",
       "      <td>SETTINEMONFIRE</td>\n",
       "    </tr>\n",
       "    <tr>\n",
       "      <th>2</th>\n",
       "      <td>PRINCE ADIRAN</td>\n",
       "    </tr>\n",
       "    <tr>\n",
       "      <th>3</th>\n",
       "      <td>OZZY BLUE CHIP</td>\n",
       "    </tr>\n",
       "    <tr>\n",
       "      <th>4</th>\n",
       "      <td>TRILLIONAIR</td>\n",
       "    </tr>\n",
       "    <tr>\n",
       "      <th>5</th>\n",
       "      <td>ANDERSON VALLEY</td>\n",
       "    </tr>\n",
       "    <tr>\n",
       "      <th>6</th>\n",
       "      <td>NEPTUNE</td>\n",
       "    </tr>\n",
       "    <tr>\n",
       "      <th>7</th>\n",
       "      <td>BETTORSLUCKYSTREAK</td>\n",
       "    </tr>\n",
       "    <tr>\n",
       "      <th>8</th>\n",
       "      <td>DEE'S ROCKETMAN</td>\n",
       "    </tr>\n",
       "    <tr>\n",
       "      <th>9</th>\n",
       "      <td>LYONS JOHNNY</td>\n",
       "    </tr>\n",
       "    <tr>\n",
       "      <th>10</th>\n",
       "      <td>DASH OF DANGER</td>\n",
       "    </tr>\n",
       "    <tr>\n",
       "      <th>11</th>\n",
       "      <td>WINYARD HANOVER</td>\n",
       "    </tr>\n",
       "    <tr>\n",
       "      <th>12</th>\n",
       "      <td>FREE LOVE</td>\n",
       "    </tr>\n",
       "    <tr>\n",
       "      <th>13</th>\n",
       "      <td>TAILGUNNER HANOVER</td>\n",
       "    </tr>\n",
       "    <tr>\n",
       "      <th>14</th>\n",
       "      <td>IM AN ART MAJOR</td>\n",
       "    </tr>\n",
       "    <tr>\n",
       "      <th>15</th>\n",
       "      <td>GOLD STAR SPIKE</td>\n",
       "    </tr>\n",
       "    <tr>\n",
       "      <th>16</th>\n",
       "      <td>FRANKIES DRAGON</td>\n",
       "    </tr>\n",
       "    <tr>\n",
       "      <th>17</th>\n",
       "      <td>MACHMEMACKIE</td>\n",
       "    </tr>\n",
       "    <tr>\n",
       "      <th>18</th>\n",
       "      <td>F TWENTY TWO</td>\n",
       "    </tr>\n",
       "  </tbody>\n",
       "</table>\n",
       "</div>"
      ],
      "text/plain": [
       "                 horse\n",
       "0            KDMAKEWAY\n",
       "1       SETTINEMONFIRE\n",
       "2        PRINCE ADIRAN\n",
       "3       OZZY BLUE CHIP\n",
       "4          TRILLIONAIR\n",
       "5      ANDERSON VALLEY\n",
       "6              NEPTUNE\n",
       "7   BETTORSLUCKYSTREAK\n",
       "8      DEE'S ROCKETMAN\n",
       "9         LYONS JOHNNY\n",
       "10      DASH OF DANGER\n",
       "11     WINYARD HANOVER\n",
       "12           FREE LOVE\n",
       "13  TAILGUNNER HANOVER\n",
       "14     IM AN ART MAJOR\n",
       "15     GOLD STAR SPIKE\n",
       "16     FRANKIES DRAGON\n",
       "17        MACHMEMACKIE\n",
       "18        F TWENTY TWO"
      ]
     },
     "execution_count": 3,
     "metadata": {},
     "output_type": "execute_result"
    },
    {
     "name": "stdout",
     "output_type": "stream",
     "text": [
      "time: 1.78 s\n"
     ]
    }
   ],
   "source": [
    "races.select(\"\"\"\n",
    "SELECT ?horse {\n",
    "    :tioga_downs_2017_08_14  ?p1 ?race .\n",
    "    ?race ?p2 ?horse .\n",
    "    FILTER(STRSTARTS(STR(?p1),\"http://www.w3.org/1999/02/22-rdf-syntax-ns#_\"))\n",
    "    FILTER(STRSTARTS(STR(?p2),\"http://www.w3.org/1999/02/22-rdf-syntax-ns#_\"))\n",
    "}\n",
    "\"\"\")"
   ]
  },
  {
   "cell_type": "markdown",
   "metadata": {},
   "source": [
    "There are two things that bother me about this query:\n",
    "    \n",
    "1. It has a long,  arbitrary-looking,  hard to remember, and error prone FILTER clause for each container I want to traverse (what if I cut and pasted it and it was `?p1` both times)\n",
    "2. It is not so obvious in this query,  but FILTER statements can occur only after all of the \"basic graph patterns\" (ex. `?s ?p ?o .`) so the FILTER statements may have to be far away from the predicates they control,  making complex queries all the more complex and mysterious\n",
    "\n",
    "The good news is that the RDF Schema specification already specifies a few inference rules to simplify this kind of query:"
   ]
  },
  {
   "cell_type": "markdown",
   "metadata": {},
   "source": [
    "## What is inference?\n",
    "\n",
    "RDF Inference is a process in which we have some facts,  and then apply some rules to those facts to get more facts.  Inference addresses some of the problems solved by triggers and views in relational databases.  Inference is implemented in two ways:\n",
    "\n",
    "* In the case of **Forward Chaining**,  we compute the new facts and insert them in the database so that they will be seen by the query procedure.  (This is like a trigger in SQL)\n",
    "* In the case of **Backward Chaining** we rewrite the query or change the query answering procedure so that the new facts appear to be there.  (This is like a view in SQL)\n",
    "\n",
    "RDFS Schema contains a number of features that are implemented with rules.  Often we're not interested in all of the possible inferences,  in which case we can implement the rules with a simple \"inference engine\" we write ourselves."
   ]
  },
  {
   "cell_type": "markdown",
   "metadata": {},
   "source": [
    "## rdfs:ContainerMembershipProperty\n",
    "\n",
    "The `ContainerMembershipProperty` class provides a quick way to select any predicate which denotes membership in a container.  According to the standard,\n"
   ]
  },
  {
   "cell_type": "markdown",
   "metadata": {},
   "source": [
    "<div style=\"margin-left: 11px\">\n",
    "    Excerpt of <a href=\"http://www.w3.org/TR/rdf-schema/#ch_containermembershipproperty\">Section 5.1.5 of the RDF Schema specification</a>\n",
    "</div>\n",
    "\n",
    "<div style=\"border: 1px solid black; margin: 5px; padding: 5px;\">\n",
    "<section id=\"ch_containermembershipproperty\" typeof=\"bibo:Chapter\" resource=\"#ref\" rel=\"bibo:Chapter\">\n",
    "          <p>The <code>rdfs:ContainerMembershipProperty</code> class has as\n",
    "            instances\n",
    "            the properties <code>rdf:_1, rdf:_2, rdf:_3 ...</code> that are\n",
    "            used to state\n",
    "            that a resource is a member of a container.\n",
    "            <code>rdfs:ContainerMembershipProperty</code> is a <a href=\"#def-subclass\">subclass</a>\n",
    "            of <a href=\"#ch_property\"><code>rdf:Property</code></a>. Each\n",
    "            instance of\n",
    "            <code>rdfs:ContainerMembershipProperty</code> is an <a href=\"#ch_subpropertyof\"><code>rdfs:subPropertyOf</code></a>\n",
    "            the <code><a href=\"#ch_member\">rdfs:member</a></code> property.</p>\n",
    "          <p>Given a container C, a triple of the form:</p>\n",
    "          <blockquote> <code>C rdf:_nnn O</code>\n",
    "          </blockquote>\n",
    "          <p>where <code>nnn</code> is the decimal representation of an integer\n",
    "            greater than 0 with\n",
    "            no leading zeros, states that O is a member of the container C.</p>\n",
    "          <p>Container membership properties may be applied to resources other\n",
    "            than containers.</p>\n",
    "        </section>\n",
    "</div>"
   ]
  },
  {
   "cell_type": "markdown",
   "metadata": {},
   "source": [
    "The term `rdfs:subPropertyOf` is important in the above definition and is defined as follows:"
   ]
  },
  {
   "cell_type": "markdown",
   "metadata": {},
   "source": [
    "<div style=\"margin-left: 11px\">\n",
    "    Excerpt of <a href=\"http://www.w3.org/TR/rdf-schema/#ch_containermembershipproperty\">Section 3.5 of the RDF Schema specification</a>\n",
    "</div>\n",
    "\n",
    "<div style=\"border: 1px solid black; margin: 5px; padding: 5px;\"> \n",
    "    \n",
    "<section id=\"ch_subpropertyof\" typeof=\"bibo:Chapter\" resource=\"#ref\" rel=\"bibo:Chapter\">\n",
    "        <p>The property <code>rdfs:subPropertyOf</code> is an instance of <code><a href=\"#ch_property\">rdf:Property</a></code> that is used to state\n",
    "          that all resources related by one property are also related by\n",
    "          another.</p>\n",
    "        <p>A triple of the form:</p>\n",
    "        <blockquote> <code>P1 rdfs:subPropertyOf P2</code>\n",
    "        </blockquote>\n",
    "        <p>states that P1 is an instance of <code><a href=\"#ch_property\">rdf:Property</a></code>,\n",
    "          P2 is an instance of <code><a href=\"#ch_property\">rdf:Property</a></code>\n",
    "          and P1 is a <a href=\"#def-subproperty\">subproperty</a> of P2. The\n",
    "          <code>rdfs:subPropertyOf</code> property is transitive.</p>\n",
    "        <p>The <a href=\"#ch_domain\"><code>rdfs:domain</code></a> of\n",
    "          <code>rdfs:subPropertyOf</code> is <code><a href=\"#ch_property\">rdf:Property</a></code>.\n",
    "          The <a href=\"#ch_range\"><code>rdfs:range</code></a> of\n",
    "          rdfs:subPropertyOf is <a href=\"#ch_property\"><code>rdf:Property</code></a>.</p>\n",
    "      </section>\n",
    "</div>"
   ]
  },
  {
   "cell_type": "markdown",
   "metadata": {},
   "source": [
    "Putting together the two definitions and thinking about it,  I get the idea that we can implement `ContainerMembershipProperty` by\n",
    "writing the following *production rule* in psuedocode,  where I use regular expression symbols to formalize the `rdf:_nnn` idea in \n",
    "    the definition above.\n",
    "    \n",
    "```\n",
    "    IF \n",
    "        ?s ?p ?o .\n",
    "        AND ?p MATCHES :rdf_[1-9]([0-9])* \n",
    "    THEN\n",
    "       ?p a :ContainerMembershipProperty\n",
    "```"
   ]
  },
  {
   "cell_type": "markdown",
   "metadata": {},
   "source": [
    "There is not a well-standardized way to write production rules in RDF,  but we can easily write a SPARQL query that implements this,  at the cost of reversing the order of the IF and THEN clauses:"
   ]
  },
  {
   "cell_type": "code",
   "execution_count": 4,
   "metadata": {
    "collapsed": false
   },
   "outputs": [
    {
     "name": "stdout",
     "output_type": "stream",
     "text": [
      "time: 43.5 ms\n"
     ]
    }
   ],
   "source": [
    "def rule_1(endpoint):\n",
    "    endpoint.update(\"\"\"\n",
    "        INSERT { \n",
    "            ?p a rdfs:ContainerMembershipProperty .\n",
    "        } WHERE { \n",
    "            ?s ?p ?o .\n",
    "            FILTER(REGEX(STR(?p),\"^http://www[.]w3[.]org/1999/02/22-rdf-syntax-ns#_[1-9]([0-9])*$\"))\n",
    "        }\n",
    "    \"\"\")\n",
    "    \n",
    "rule_1(races)"
   ]
  },
  {
   "cell_type": "markdown",
   "metadata": {},
   "source": [
    "To see what this entails,  I run the following query:"
   ]
  },
  {
   "cell_type": "code",
   "execution_count": 5,
   "metadata": {
    "collapsed": false
   },
   "outputs": [
    {
     "data": {
      "text/html": [
       "<div>\n",
       "<table border=\"1\" class=\"dataframe\">\n",
       "  <thead>\n",
       "    <tr style=\"text-align: right;\">\n",
       "      <th></th>\n",
       "      <th>p</th>\n",
       "    </tr>\n",
       "  </thead>\n",
       "  <tbody>\n",
       "    <tr>\n",
       "      <th>0</th>\n",
       "      <td>rdf:_1</td>\n",
       "    </tr>\n",
       "    <tr>\n",
       "      <th>1</th>\n",
       "      <td>rdf:_2</td>\n",
       "    </tr>\n",
       "    <tr>\n",
       "      <th>2</th>\n",
       "      <td>rdf:_3</td>\n",
       "    </tr>\n",
       "    <tr>\n",
       "      <th>3</th>\n",
       "      <td>rdf:_4</td>\n",
       "    </tr>\n",
       "    <tr>\n",
       "      <th>4</th>\n",
       "      <td>rdf:_5</td>\n",
       "    </tr>\n",
       "    <tr>\n",
       "      <th>5</th>\n",
       "      <td>rdf:_6</td>\n",
       "    </tr>\n",
       "    <tr>\n",
       "      <th>6</th>\n",
       "      <td>rdf:_7</td>\n",
       "    </tr>\n",
       "  </tbody>\n",
       "</table>\n",
       "</div>"
      ],
      "text/plain": [
       "        p\n",
       "0  rdf:_1\n",
       "1  rdf:_2\n",
       "2  rdf:_3\n",
       "3  rdf:_4\n",
       "4  rdf:_5\n",
       "5  rdf:_6\n",
       "6  rdf:_7"
      ]
     },
     "execution_count": 5,
     "metadata": {},
     "output_type": "execute_result"
    },
    {
     "name": "stdout",
     "output_type": "stream",
     "text": [
      "time: 36.5 ms\n"
     ]
    }
   ],
   "source": [
    "races.select(\"\"\"\n",
    "    SELECT ?p { \n",
    "        ?p a rdfs:ContainerMembershipProperty .\n",
    "    } ORDER BY ?p\n",
    "\"\"\")"
   ]
  },
  {
   "cell_type": "markdown",
   "metadata": {},
   "source": [
    "And I can now write a query for \"all race entries\" that is a little more sensible:"
   ]
  },
  {
   "cell_type": "code",
   "execution_count": 6,
   "metadata": {
    "collapsed": false
   },
   "outputs": [
    {
     "data": {
      "text/html": [
       "<div>\n",
       "<table border=\"1\" class=\"dataframe\">\n",
       "  <thead>\n",
       "    <tr style=\"text-align: right;\">\n",
       "      <th></th>\n",
       "      <th>horse</th>\n",
       "    </tr>\n",
       "  </thead>\n",
       "  <tbody>\n",
       "    <tr>\n",
       "      <th>0</th>\n",
       "      <td>FREE LOVE</td>\n",
       "    </tr>\n",
       "    <tr>\n",
       "      <th>1</th>\n",
       "      <td>MACHMEMACKIE</td>\n",
       "    </tr>\n",
       "    <tr>\n",
       "      <th>2</th>\n",
       "      <td>IM AN ART MAJOR</td>\n",
       "    </tr>\n",
       "    <tr>\n",
       "      <th>3</th>\n",
       "      <td>FRANKIES DRAGON</td>\n",
       "    </tr>\n",
       "    <tr>\n",
       "      <th>4</th>\n",
       "      <td>F TWENTY TWO</td>\n",
       "    </tr>\n",
       "    <tr>\n",
       "      <th>5</th>\n",
       "      <td>TAILGUNNER HANOVER</td>\n",
       "    </tr>\n",
       "    <tr>\n",
       "      <th>6</th>\n",
       "      <td>GOLD STAR SPIKE</td>\n",
       "    </tr>\n",
       "    <tr>\n",
       "      <th>7</th>\n",
       "      <td>KDMAKEWAY</td>\n",
       "    </tr>\n",
       "    <tr>\n",
       "      <th>8</th>\n",
       "      <td>PRINCE ADIRAN</td>\n",
       "    </tr>\n",
       "    <tr>\n",
       "      <th>9</th>\n",
       "      <td>SETTINEMONFIRE</td>\n",
       "    </tr>\n",
       "    <tr>\n",
       "      <th>10</th>\n",
       "      <td>ANDERSON VALLEY</td>\n",
       "    </tr>\n",
       "    <tr>\n",
       "      <th>11</th>\n",
       "      <td>OZZY BLUE CHIP</td>\n",
       "    </tr>\n",
       "    <tr>\n",
       "      <th>12</th>\n",
       "      <td>TRILLIONAIR</td>\n",
       "    </tr>\n",
       "    <tr>\n",
       "      <th>13</th>\n",
       "      <td>BETTORSLUCKYSTREAK</td>\n",
       "    </tr>\n",
       "    <tr>\n",
       "      <th>14</th>\n",
       "      <td>LYONS JOHNNY</td>\n",
       "    </tr>\n",
       "    <tr>\n",
       "      <th>15</th>\n",
       "      <td>NEPTUNE</td>\n",
       "    </tr>\n",
       "    <tr>\n",
       "      <th>16</th>\n",
       "      <td>DASH OF DANGER</td>\n",
       "    </tr>\n",
       "    <tr>\n",
       "      <th>17</th>\n",
       "      <td>DEE'S ROCKETMAN</td>\n",
       "    </tr>\n",
       "    <tr>\n",
       "      <th>18</th>\n",
       "      <td>WINYARD HANOVER</td>\n",
       "    </tr>\n",
       "  </tbody>\n",
       "</table>\n",
       "</div>"
      ],
      "text/plain": [
       "                 horse\n",
       "0            FREE LOVE\n",
       "1         MACHMEMACKIE\n",
       "2      IM AN ART MAJOR\n",
       "3      FRANKIES DRAGON\n",
       "4         F TWENTY TWO\n",
       "5   TAILGUNNER HANOVER\n",
       "6      GOLD STAR SPIKE\n",
       "7            KDMAKEWAY\n",
       "8        PRINCE ADIRAN\n",
       "9       SETTINEMONFIRE\n",
       "10     ANDERSON VALLEY\n",
       "11      OZZY BLUE CHIP\n",
       "12         TRILLIONAIR\n",
       "13  BETTORSLUCKYSTREAK\n",
       "14        LYONS JOHNNY\n",
       "15             NEPTUNE\n",
       "16      DASH OF DANGER\n",
       "17     DEE'S ROCKETMAN\n",
       "18     WINYARD HANOVER"
      ]
     },
     "execution_count": 6,
     "metadata": {},
     "output_type": "execute_result"
    },
    {
     "name": "stdout",
     "output_type": "stream",
     "text": [
      "time: 56 ms\n"
     ]
    }
   ],
   "source": [
    "races.select(\"\"\"\n",
    "SELECT ?horse {\n",
    "    :tioga_downs_2017_08_14  ?p1 ?race .\n",
    "    ?p1 a rdfs:ContainerMembershipProperty .\n",
    "    ?race ?p2 ?horse .\n",
    "    ?p2 a rdfs:ContainerMembershipProperty .\n",
    "}\n",
    "\"\"\")"
   ]
  },
  {
   "cell_type": "markdown",
   "metadata": {},
   "source": [
    "## Let's talk about entailment\n",
    "\n",
    "Here's an issue which may seem a little strange,  but it is fundamental to the use of logic to solve problems in computing.\n",
    "\n",
    "We know,  for instance,  that\n",
    "\n",
    "```\n",
    "rdf:_179426083 a rdfs:ContainerMembershipProperty .\n",
    "```\n",
    "\n",
    "and this is true for every integer greater than zero,  that is,  one way of thinking about it,  the `ContainerMembershipProperty` entails an infinite number of facts!\n",
    "\n",
    "It's not at all conceivable that we could materialize an infinite number of facts if we were forward chaining.  It would not only take an infinite amount of time, but it would take an infinite amount of space.\n",
    "\n",
    "What's less obvious is that if we implemented the `ContainerMembershipProperty` rule inside the SPARQL engine,  it is just as unreasonable to generate an infinite number of rows by writing a query like\n",
    "\n",
    "```\n",
    "SELECT ?p { \n",
    "    ?p a rdfs:ContainerMembershipProperty .\n",
    "} ORDER BY ?p\n",
    "```\n",
    "\n",
    "even though this looks much like writing\n",
    "\n",
    "```\n",
    "count=0\n",
    "while True:\n",
    "    print(count)\n",
    "    count+=1\n",
    "```\n",
    "\n",
    "in Python,  which is possible,  if ill-advised.  (There is a reason why I am embedding that code in a Markdown block instead of running it in a code block!)\n",
    "\n",
    "It turns out that SPARQL,  SQL and most other query languages only allow bounded loops,  so that it is impossible to write a program that runs forever.  This is opposed to a Turing-complete language such as Python in which one can write more expressive programs at the cost of possibly writing a program which never terminates.  (See the [Halting Problem](https://en.wikipedia.org/wiki/Halting_problem) if you wish to learn more.)\n",
    "\n",
    "This kind of issue is addressed by defining an *entailment regime*;  for instance,  to answer any query where \n",
    "\n",
    "```\n",
    "?p a rdfs:ContainerMembershipProperty .\n",
    "```\n",
    "\n",
    "has a `?p` that matches a resource in a query pattern,  we only need to materialize those facts for predicates that actually occur in the graph,  as opposed to those which could match any possible statement."
   ]
  },
  {
   "cell_type": "markdown",
   "metadata": {},
   "source": [
    "## rdfs:member\n",
    "\n",
    "The `rdfs:member` property connects each container to all of its members.  It is defined like so:\n"
   ]
  },
  {
   "cell_type": "markdown",
   "metadata": {},
   "source": [
    "<div style=\"margin-left: 11px\">\n",
    "    Excerpt of <a href=\"http://www.w3.org/TR/rdf-schema/#ch_containermembershipproperty\">Section 5.1.6 of the RDF Schema specification</a>\n",
    "</div>\n",
    "\n",
    "<div style=\"border: 1px solid black; margin: 5px; padding: 5px;\">\n",
    "  <p><code>rdfs:member</code> is an instance of <code><a href=\"#ch_property\">rdf:Property</a></code>\n",
    "    that is a super-property of all\n",
    "    the container membership properties i.e. each container membership\n",
    "    property\n",
    "    has an <a href=\"#ch_subpropertyof\"><code>rdfs:subPropertyOf</code></a>\n",
    "    relationship to the property <code>rdfs:member</code>.</p>\n",
    "</div>"
   ]
  },
  {
   "cell_type": "markdown",
   "metadata": {},
   "source": [
    "I can implement *that* rule with the following SPARQL query"
   ]
  },
  {
   "cell_type": "code",
   "execution_count": 7,
   "metadata": {
    "collapsed": false
   },
   "outputs": [
    {
     "name": "stdout",
     "output_type": "stream",
     "text": [
      "time: 31 ms\n"
     ]
    }
   ],
   "source": [
    "def rule_2(endpoint):\n",
    "    endpoint.update(\"\"\"\n",
    "        INSERT { \n",
    "            ?container rdfs:member ?member .\n",
    "        } WHERE { \n",
    "            ?container ?containerMembershipProperty ?member .\n",
    "            ?containerMembershipProperty a rdfs:ContainerMembershipProperty .\n",
    "        }\n",
    "    \"\"\")\n",
    "    \n",
    "rule_2(races)"
   ]
  },
  {
   "cell_type": "markdown",
   "metadata": {},
   "source": [
    "Then I can write a very simple query that finds all of the non-empty containers in the graph"
   ]
  },
  {
   "cell_type": "code",
   "execution_count": 8,
   "metadata": {
    "collapsed": false
   },
   "outputs": [
    {
     "data": {
      "text/html": [
       "<div>\n",
       "<table border=\"1\" class=\"dataframe\">\n",
       "  <thead>\n",
       "    <tr style=\"text-align: right;\">\n",
       "      <th></th>\n",
       "      <th>list</th>\n",
       "    </tr>\n",
       "  </thead>\n",
       "  <tbody>\n",
       "    <tr>\n",
       "      <th>0</th>\n",
       "      <td>:race_2</td>\n",
       "    </tr>\n",
       "    <tr>\n",
       "      <th>1</th>\n",
       "      <td>:race_1</td>\n",
       "    </tr>\n",
       "    <tr>\n",
       "      <th>2</th>\n",
       "      <td>:race_3</td>\n",
       "    </tr>\n",
       "    <tr>\n",
       "      <th>3</th>\n",
       "      <td>:tioga_downs_2017_08_14</td>\n",
       "    </tr>\n",
       "  </tbody>\n",
       "</table>\n",
       "</div>"
      ],
      "text/plain": [
       "                      list\n",
       "0                  :race_2\n",
       "1                  :race_1\n",
       "2                  :race_3\n",
       "3  :tioga_downs_2017_08_14"
      ]
     },
     "execution_count": 8,
     "metadata": {},
     "output_type": "execute_result"
    },
    {
     "name": "stdout",
     "output_type": "stream",
     "text": [
      "time: 48 ms\n"
     ]
    }
   ],
   "source": [
    "races.select(\"\"\"\n",
    "   SELECT DISTINCT ?list {\n",
    "       ?list rdfs:member ?member .\n",
    "   }\n",
    "\"\"\")"
   ]
  },
  {
   "cell_type": "markdown",
   "metadata": {},
   "source": [
    "## About inference engines\n",
    "\n",
    "### Simple Inference\n",
    "\n",
    "I can put the two rule definitions together to make a simple inference engine:"
   ]
  },
  {
   "cell_type": "code",
   "execution_count": 9,
   "metadata": {
    "collapsed": false
   },
   "outputs": [
    {
     "name": "stdout",
     "output_type": "stream",
     "text": [
      "time: 10 ms\n"
     ]
    }
   ],
   "source": [
    "def container_inference(endpoint):\n",
    "    rule_1(endpoint)\n",
    "    rule_2(endpoint)"
   ]
  },
  {
   "cell_type": "markdown",
   "metadata": {},
   "source": [
    "This inference engine works because that:\n",
    "    \n",
    "1. A fact generated by either `rule1` or `rule2` cannot change the result of `rule1`\n",
    "2. A fact generated by either `rule2` cannot change the result of `rule2`\n",
    "\n",
    "Thus I can evaluate the rules in sequence and know that I am done.  Also the relationship between the rules is simple,  so it's easy for me to figure out the right order to evaluate them in.\n",
    "\n",
    "If I add some facts to the graph,  run the engine,  add some more facts,  and run the engine again,  that is also OK,  because the act of adding facts to the graph is [idempotent](https://en.wikipedia.org/wiki/Idempotence)."
   ]
  },
  {
   "cell_type": "markdown",
   "metadata": {},
   "source": [
    "### The Fixed Point Algorithm\n",
    "\n",
    "What I'm doing is closely related to [SPIN](http://spinrdf.org/) rules,  in fact,  SPIN rules are a set of SPARQL update statements that are repeated over and over again until the graph stops changing.\n",
    "\n",
    "In the case above,  for instance,  if I got the order of the rules wrong,  repeating the inference process to a fixed point would give the same answer as the rules below.  It might take a little more time,  but the rule author doesn't need to think so much.\n",
    "\n",
    "Another case for the fixed point algorithm is a rule like:"
   ]
  },
  {
   "cell_type": "code",
   "execution_count": 10,
   "metadata": {
    "collapsed": false
   },
   "outputs": [
    {
     "name": "stdout",
     "output_type": "stream",
     "text": [
      "time: 15 ms\n"
     ]
    }
   ],
   "source": [
    "def rule_t(endpoint):\n",
    "    endpoint.update(\"\"\"\n",
    "        INSERT { \n",
    "            ?self rdfs:subClassOf ?grandparent .\n",
    "        } WHERE { \n",
    "            ?self rdfs:subClassOf ?parent .\n",
    "            ?parent rdfs:subClassOf ?grandparent .\n",
    "        }\n",
    "    \"\"\")"
   ]
  },
  {
   "cell_type": "markdown",
   "metadata": {},
   "source": [
    "which makes `rdfs:subClassOf` a transitive property.  Because it generates new `rdfs:subClassOf` statements,  running the rule again can generate more facts.  It never makes an infinite loop however,  since it is triggered by a finite number of statements in the graph.  Even if I abuse it by making the graph have a cycle,  the iteration stops because,  after a while,  the rule is inserting the same facts into the graph over and over again,  which is a non-operation."
   ]
  },
  {
   "cell_type": "markdown",
   "metadata": {
    "collapsed": true
   },
   "source": [
    "### RETE and friends\n",
    "\n",
    "In the case of the simple inference engine,  I can work out in my head which rules can cause which other rules to fire,  thus put them in the right order.\n",
    "\n",
    "The [RETE algorithm](https://en.wikipedia.org/wiki/Rete_algorithm),  and variations of the RETE algorithm,  does this automatically,  compiling a network of matching conditions that could apply to incoming facts,  thus only checking the rules that have a chance to fire.\n",
    "\n",
    "A few examples of RETE-related rules engines are\n",
    "\n",
    "* [Drools](https://en.wikipedia.org/wiki/Drools)\n",
    "* [JESS](https://en.wikipedia.org/wiki/Jess_(programming_language))\n",
    "* [IBM Operational Decision Management](https://en.wikipedia.org/wiki/IBM_Operational_Decision_Management)\n",
    "* The [Jena Rules Engine](https://jena.apache.org/documentation/inference/)\n",
    "* [PyCLIPS](http://pyclips.sourceforge.net/web/)\n",
    "* [Clara](http://www.clara-rules.org/)\n",
    "* [FuXi](https://github.com/RDFLib/FuXi/blob/master/docs/Overview.rst)\n",
    "\n",
    "RETE engines are particularly good for [complex event processing](https://en.wikipedia.org/wiki/Complex_event_processing) and workflow engines [workflow](https://en.wikipedia.org/wiki/Workflow_engine) as the RETE engine works incrementally,  firing rules as they become applicable.  Thus the rules can be as valuable for the side effects they generate as they are for the facts they imply."
   ]
  },
  {
   "cell_type": "markdown",
   "metadata": {},
   "source": [
    "### Truth Maintainance\n",
    "\n",
    "With the `container_inference` procedure there would be a problem if I deleted facts from the graph,  because the system would not know it is supposed to delete `rdfs:member` statements that were implied by the deleted facts.  In this case the problem is solved because I insert the data,  do the inference,  make queries and never delete any statements.\n",
    "\n",
    "Really advanced rules engines (many of the ones listed above) combine the RETE algorithm with a [Truth Maintainance System](https://en.wikipedia.org/wiki/Reason_maintenance) which automatically retracts inferred statements when the facts that imply them are removed."
   ]
  },
  {
   "cell_type": "markdown",
   "metadata": {
    "collapsed": true
   },
   "source": [
    "### Backwards chaining\n",
    "\n",
    "It is also possible to perform inference by backwards chaining,  when you start with a query you'd like to solve,  and the query processing engine executes the query to pretend that the inferred facts exist.  [Prolog](https://en.wikipedia.org/wiki/Prolog) is an example of a logic programming language based on backwards chaining.  [Datalog](https://en.wikipedia.org/wiki/Datalog) is a subset of Prolog that applies to database systems,  because,  like a SPARQL query,  Datalog programs are guaranteed to terminate.\n",
    "\n",
    "In the case discussed here,  `rdfs:member` and `rdfs:ContainerMembershipProperty` could be implemented in a SPARQL query by rewriting a query like\n",
    "\n",
    "```\n",
    "SELECT ?p {\n",
    " ?p a rdfs:ContainerMembershipProperty .\n",
    "}\n",
    "```\n",
    "\n",
    "to\n",
    "\n",
    "```\n",
    "SELECT ?p {\n",
    " ?s ?p ?o .\n",
    " FILTER(REGEX(STR(?p),\"^http://www[.]w3[.]org/1999/02/22-rdf-syntax-ns#_[1-9]([0-9])*$\"))\n",
    "}\n",
    "```\n",
    "\n",
    "and this would be an example of backwards chaining inference.  Both RDFS and OWL are designed such that most rule sets can be executed efficiently by either backwards or forward chaining."
   ]
  },
  {
   "cell_type": "markdown",
   "metadata": {},
   "source": [
    "## Queries over Containers with Inference"
   ]
  },
  {
   "cell_type": "markdown",
   "metadata": {},
   "source": [
    "### Counting unique members"
   ]
  },
  {
   "cell_type": "markdown",
   "metadata": {},
   "source": [
    "A count of unique members can easily be made with the following query:"
   ]
  },
  {
   "cell_type": "code",
   "execution_count": 11,
   "metadata": {
    "collapsed": false
   },
   "outputs": [
    {
     "data": {
      "text/html": [
       "<div>\n",
       "<table border=\"1\" class=\"dataframe\">\n",
       "  <thead>\n",
       "    <tr style=\"text-align: right;\">\n",
       "      <th></th>\n",
       "      <th>count</th>\n",
       "    </tr>\n",
       "  </thead>\n",
       "  <tbody>\n",
       "    <tr>\n",
       "      <th>0</th>\n",
       "      <td>7</td>\n",
       "    </tr>\n",
       "  </tbody>\n",
       "</table>\n",
       "</div>"
      ],
      "text/plain": [
       "   count\n",
       "0      7"
      ]
     },
     "execution_count": 11,
     "metadata": {},
     "output_type": "execute_result"
    },
    {
     "name": "stdout",
     "output_type": "stream",
     "text": [
      "time: 56 ms\n"
     ]
    }
   ],
   "source": [
    "races.select(\"\"\"\n",
    "    select (count(*) as ?count) {\n",
    "       :race_2 rdfs:member ?member\n",
    "    }\n",
    "\"\"\")"
   ]
  },
  {
   "cell_type": "markdown",
   "metadata": {},
   "source": [
    "note that this a count of unique members as opposed to a count of members.  This can be seen with the following test data:"
   ]
  },
  {
   "cell_type": "code",
   "execution_count": 12,
   "metadata": {
    "collapsed": false
   },
   "outputs": [
    {
     "name": "stdout",
     "output_type": "stream",
     "text": [
      "time: 67.5 ms\n"
     ]
    }
   ],
   "source": [
    "duplicates=inline(r\"\"\"\n",
    "@prefix rdf: <http://www.w3.org/1999/02/22-rdf-syntax-ns#> .\n",
    "@prefix : <http://example.com/> .\n",
    "\n",
    ":three_cheers\n",
    "    a rdf:Seq ;\n",
    "    rdf:_1 \"cheer!\" ;\n",
    "    rdf:_2 \"cheer!\" ;\n",
    "    rdf:_3 \"cheer!\" .\n",
    "\"\"\")\n",
    "\n",
    "container_inference(duplicates)"
   ]
  },
  {
   "cell_type": "code",
   "execution_count": 13,
   "metadata": {
    "collapsed": false
   },
   "outputs": [
    {
     "data": {
      "text/html": [
       "<div>\n",
       "<table border=\"1\" class=\"dataframe\">\n",
       "  <thead>\n",
       "    <tr style=\"text-align: right;\">\n",
       "      <th></th>\n",
       "      <th>count</th>\n",
       "    </tr>\n",
       "  </thead>\n",
       "  <tbody>\n",
       "    <tr>\n",
       "      <th>0</th>\n",
       "      <td>1</td>\n",
       "    </tr>\n",
       "  </tbody>\n",
       "</table>\n",
       "</div>"
      ],
      "text/plain": [
       "   count\n",
       "0      1"
      ]
     },
     "execution_count": 13,
     "metadata": {},
     "output_type": "execute_result"
    },
    {
     "name": "stdout",
     "output_type": "stream",
     "text": [
      "time: 44 ms\n"
     ]
    }
   ],
   "source": [
    "duplicates.select(\"\"\"\n",
    "    select (count(*) as ?count) {\n",
    "       :three_cheers rdfs:member ?member\n",
    "    }\n",
    "\"\"\")"
   ]
  },
  {
   "cell_type": "markdown",
   "metadata": {},
   "source": [
    "What happened here is that the facts in an RDF graph have set semantics,  so the fact\n",
    "\n",
    "`:three_cheers rdfs:member ?member .`\n",
    "\n",
    "only occurs once,  no matter how many container membership properties link those two facts:"
   ]
  },
  {
   "cell_type": "code",
   "execution_count": 14,
   "metadata": {
    "collapsed": false
   },
   "outputs": [
    {
     "data": {
      "text/html": [
       "<div>\n",
       "<table border=\"1\" class=\"dataframe\">\n",
       "  <thead>\n",
       "    <tr style=\"text-align: right;\">\n",
       "      <th></th>\n",
       "      <th>s</th>\n",
       "      <th>p</th>\n",
       "      <th>o</th>\n",
       "    </tr>\n",
       "  </thead>\n",
       "  <tbody>\n",
       "    <tr>\n",
       "      <th>0</th>\n",
       "      <td>:three_cheers</td>\n",
       "      <td>rdfs:member</td>\n",
       "      <td>cheer!</td>\n",
       "    </tr>\n",
       "  </tbody>\n",
       "</table>\n",
       "</div>"
      ],
      "text/plain": [
       "               s            p       o\n",
       "0  :three_cheers  rdfs:member  cheer!"
      ]
     },
     "execution_count": 14,
     "metadata": {},
     "output_type": "execute_result"
    },
    {
     "name": "stdout",
     "output_type": "stream",
     "text": [
      "time: 67 ms\n"
     ]
    }
   ],
   "source": [
    "duplicates.select(\"\"\"\n",
    "    select ?s ?p ?o {\n",
    "       ?s ?p ?o .\n",
    "       FILTER(?p=rdfs:member)\n",
    "    }\n",
    "\"\"\")"
   ]
  },
  {
   "cell_type": "markdown",
   "metadata": {},
   "source": [
    "### Counting all members\n",
    "\n",
    "it takes a slightly different query to count all members:"
   ]
  },
  {
   "cell_type": "code",
   "execution_count": 15,
   "metadata": {
    "collapsed": false
   },
   "outputs": [
    {
     "data": {
      "text/html": [
       "<div>\n",
       "<table border=\"1\" class=\"dataframe\">\n",
       "  <thead>\n",
       "    <tr style=\"text-align: right;\">\n",
       "      <th></th>\n",
       "      <th>count</th>\n",
       "    </tr>\n",
       "  </thead>\n",
       "  <tbody>\n",
       "    <tr>\n",
       "      <th>0</th>\n",
       "      <td>3</td>\n",
       "    </tr>\n",
       "  </tbody>\n",
       "</table>\n",
       "</div>"
      ],
      "text/plain": [
       "   count\n",
       "0      3"
      ]
     },
     "execution_count": 15,
     "metadata": {},
     "output_type": "execute_result"
    },
    {
     "name": "stdout",
     "output_type": "stream",
     "text": [
      "time: 36.5 ms\n"
     ]
    }
   ],
   "source": [
    "duplicates.select(\"\"\"\n",
    "    select (count(*) as ?count) {\n",
    "       :three_cheers ?p ?member .\n",
    "       ?p a rdfs:ContainerMembershipProperty\n",
    "    }\n",
    "\"\"\")"
   ]
  },
  {
   "cell_type": "code",
   "execution_count": 16,
   "metadata": {
    "collapsed": false
   },
   "outputs": [
    {
     "data": {
      "text/html": [
       "<div>\n",
       "<table border=\"1\" class=\"dataframe\">\n",
       "  <thead>\n",
       "    <tr style=\"text-align: right;\">\n",
       "      <th></th>\n",
       "      <th>count</th>\n",
       "    </tr>\n",
       "  </thead>\n",
       "  <tbody>\n",
       "    <tr>\n",
       "      <th>0</th>\n",
       "      <td>7</td>\n",
       "    </tr>\n",
       "  </tbody>\n",
       "</table>\n",
       "</div>"
      ],
      "text/plain": [
       "   count\n",
       "0      7"
      ]
     },
     "execution_count": 16,
     "metadata": {},
     "output_type": "execute_result"
    },
    {
     "name": "stdout",
     "output_type": "stream",
     "text": [
      "time: 41 ms\n"
     ]
    }
   ],
   "source": [
    "races.select(\"\"\"\n",
    "    select (count(*) as ?count) {\n",
    "       :race_2 ?p ?member .\n",
    "       ?p a rdfs:ContainerMembershipProperty\n",
    "    }\n",
    "\"\"\")"
   ]
  },
  {
   "cell_type": "markdown",
   "metadata": {},
   "source": [
    "### Queries involving property paths\n",
    "\n",
    "Container membership inference helps us take advantage of property paths in SPARQL to simplify queries.  For example,  consider:"
   ]
  },
  {
   "cell_type": "code",
   "execution_count": 17,
   "metadata": {
    "collapsed": false
   },
   "outputs": [
    {
     "data": {
      "text/html": [
       "<div>\n",
       "<table border=\"1\" class=\"dataframe\">\n",
       "  <thead>\n",
       "    <tr style=\"text-align: right;\">\n",
       "      <th></th>\n",
       "      <th>horse</th>\n",
       "    </tr>\n",
       "  </thead>\n",
       "  <tbody>\n",
       "    <tr>\n",
       "      <th>0</th>\n",
       "      <td>ANDERSON VALLEY</td>\n",
       "    </tr>\n",
       "    <tr>\n",
       "      <th>1</th>\n",
       "      <td>OZZY BLUE CHIP</td>\n",
       "    </tr>\n",
       "    <tr>\n",
       "      <th>2</th>\n",
       "      <td>TRILLIONAIR</td>\n",
       "    </tr>\n",
       "    <tr>\n",
       "      <th>3</th>\n",
       "      <td>KDMAKEWAY</td>\n",
       "    </tr>\n",
       "    <tr>\n",
       "      <th>4</th>\n",
       "      <td>PRINCE ADIRAN</td>\n",
       "    </tr>\n",
       "    <tr>\n",
       "      <th>5</th>\n",
       "      <td>SETTINEMONFIRE</td>\n",
       "    </tr>\n",
       "    <tr>\n",
       "      <th>6</th>\n",
       "      <td>BETTORSLUCKYSTREAK</td>\n",
       "    </tr>\n",
       "    <tr>\n",
       "      <th>7</th>\n",
       "      <td>LYONS JOHNNY</td>\n",
       "    </tr>\n",
       "    <tr>\n",
       "      <th>8</th>\n",
       "      <td>WINYARD HANOVER</td>\n",
       "    </tr>\n",
       "    <tr>\n",
       "      <th>9</th>\n",
       "      <td>DASH OF DANGER</td>\n",
       "    </tr>\n",
       "    <tr>\n",
       "      <th>10</th>\n",
       "      <td>NEPTUNE</td>\n",
       "    </tr>\n",
       "    <tr>\n",
       "      <th>11</th>\n",
       "      <td>DEE'S ROCKETMAN</td>\n",
       "    </tr>\n",
       "    <tr>\n",
       "      <th>12</th>\n",
       "      <td>F TWENTY TWO</td>\n",
       "    </tr>\n",
       "    <tr>\n",
       "      <th>13</th>\n",
       "      <td>GOLD STAR SPIKE</td>\n",
       "    </tr>\n",
       "    <tr>\n",
       "      <th>14</th>\n",
       "      <td>TAILGUNNER HANOVER</td>\n",
       "    </tr>\n",
       "    <tr>\n",
       "      <th>15</th>\n",
       "      <td>FREE LOVE</td>\n",
       "    </tr>\n",
       "    <tr>\n",
       "      <th>16</th>\n",
       "      <td>MACHMEMACKIE</td>\n",
       "    </tr>\n",
       "    <tr>\n",
       "      <th>17</th>\n",
       "      <td>FRANKIES DRAGON</td>\n",
       "    </tr>\n",
       "    <tr>\n",
       "      <th>18</th>\n",
       "      <td>IM AN ART MAJOR</td>\n",
       "    </tr>\n",
       "  </tbody>\n",
       "</table>\n",
       "</div>"
      ],
      "text/plain": [
       "                 horse\n",
       "0      ANDERSON VALLEY\n",
       "1       OZZY BLUE CHIP\n",
       "2          TRILLIONAIR\n",
       "3            KDMAKEWAY\n",
       "4        PRINCE ADIRAN\n",
       "5       SETTINEMONFIRE\n",
       "6   BETTORSLUCKYSTREAK\n",
       "7         LYONS JOHNNY\n",
       "8      WINYARD HANOVER\n",
       "9       DASH OF DANGER\n",
       "10             NEPTUNE\n",
       "11     DEE'S ROCKETMAN\n",
       "12        F TWENTY TWO\n",
       "13     GOLD STAR SPIKE\n",
       "14  TAILGUNNER HANOVER\n",
       "15           FREE LOVE\n",
       "16        MACHMEMACKIE\n",
       "17     FRANKIES DRAGON\n",
       "18     IM AN ART MAJOR"
      ]
     },
     "execution_count": 17,
     "metadata": {},
     "output_type": "execute_result"
    },
    {
     "name": "stdout",
     "output_type": "stream",
     "text": [
      "time: 48 ms\n"
     ]
    }
   ],
   "source": [
    "races.select(\"\"\"\n",
    "    select ?horse {\n",
    "       :tioga_downs_2017_08_14 rdfs:member/rdfs:member ?horse\n",
    "    }\n",
    "\"\"\")"
   ]
  },
  {
   "cell_type": "markdown",
   "metadata": {},
   "source": [
    "to get a list of all unique horses that ran.  This is the same as \"all race entries\" because a specific horse runs at most once a day."
   ]
  },
  {
   "cell_type": "markdown",
   "metadata": {},
   "source": [
    "### Fourth horse in the third race?\n",
    "\n",
    "Property paths are just peachy for the case where we want to index specific nested members"
   ]
  },
  {
   "cell_type": "code",
   "execution_count": 18,
   "metadata": {
    "collapsed": false,
    "scrolled": true
   },
   "outputs": [
    {
     "data": {
      "text/html": [
       "<div>\n",
       "<table border=\"1\" class=\"dataframe\">\n",
       "  <thead>\n",
       "    <tr style=\"text-align: right;\">\n",
       "      <th></th>\n",
       "      <th>horse</th>\n",
       "    </tr>\n",
       "  </thead>\n",
       "  <tbody>\n",
       "    <tr>\n",
       "      <th>0</th>\n",
       "      <td>NEPTUNE</td>\n",
       "    </tr>\n",
       "  </tbody>\n",
       "</table>\n",
       "</div>"
      ],
      "text/plain": [
       "     horse\n",
       "0  NEPTUNE"
      ]
     },
     "execution_count": 18,
     "metadata": {},
     "output_type": "execute_result"
    },
    {
     "name": "stdout",
     "output_type": "stream",
     "text": [
      "time: 47.5 ms\n"
     ]
    }
   ],
   "source": [
    "races.select(\"\"\"\n",
    "    select ?horse {\n",
    "       :tioga_downs_2017_08_14 rdf:_3/rdf:_4 ?horse .\n",
    "    }\n",
    "\"\"\")"
   ]
  },
  {
   "cell_type": "markdown",
   "metadata": {},
   "source": [
    "### Queries involving inverse property paths\n",
    "\n",
    "This query takes advantage of `^` reversing the direction of a property in a property path to get \"horses that ran in the same race as F TWENTY TWO\""
   ]
  },
  {
   "cell_type": "code",
   "execution_count": 19,
   "metadata": {
    "collapsed": false
   },
   "outputs": [
    {
     "data": {
      "text/html": [
       "<div>\n",
       "<table border=\"1\" class=\"dataframe\">\n",
       "  <thead>\n",
       "    <tr style=\"text-align: right;\">\n",
       "      <th></th>\n",
       "      <th>horse</th>\n",
       "    </tr>\n",
       "  </thead>\n",
       "  <tbody>\n",
       "    <tr>\n",
       "      <th>0</th>\n",
       "      <td>F TWENTY TWO</td>\n",
       "    </tr>\n",
       "    <tr>\n",
       "      <th>1</th>\n",
       "      <td>GOLD STAR SPIKE</td>\n",
       "    </tr>\n",
       "    <tr>\n",
       "      <th>2</th>\n",
       "      <td>TAILGUNNER HANOVER</td>\n",
       "    </tr>\n",
       "    <tr>\n",
       "      <th>3</th>\n",
       "      <td>FREE LOVE</td>\n",
       "    </tr>\n",
       "    <tr>\n",
       "      <th>4</th>\n",
       "      <td>MACHMEMACKIE</td>\n",
       "    </tr>\n",
       "    <tr>\n",
       "      <th>5</th>\n",
       "      <td>FRANKIES DRAGON</td>\n",
       "    </tr>\n",
       "    <tr>\n",
       "      <th>6</th>\n",
       "      <td>IM AN ART MAJOR</td>\n",
       "    </tr>\n",
       "  </tbody>\n",
       "</table>\n",
       "</div>"
      ],
      "text/plain": [
       "                horse\n",
       "0        F TWENTY TWO\n",
       "1     GOLD STAR SPIKE\n",
       "2  TAILGUNNER HANOVER\n",
       "3           FREE LOVE\n",
       "4        MACHMEMACKIE\n",
       "5     FRANKIES DRAGON\n",
       "6     IM AN ART MAJOR"
      ]
     },
     "execution_count": 19,
     "metadata": {},
     "output_type": "execute_result"
    },
    {
     "name": "stdout",
     "output_type": "stream",
     "text": [
      "time: 50.1 ms\n"
     ]
    }
   ],
   "source": [
    "races.select(\"\"\"\n",
    "    select ?horse {\n",
    "       \"F TWENTY TWO\" ^rdfs:member/rdfs:member ?horse\n",
    "    }\n",
    "\"\"\")"
   ]
  },
  {
   "cell_type": "markdown",
   "metadata": {},
   "source": [
    "### Queries with variable-length property paths\n",
    "\n",
    "We can recursively descend through members of a list like so:"
   ]
  },
  {
   "cell_type": "code",
   "execution_count": 20,
   "metadata": {
    "collapsed": false
   },
   "outputs": [
    {
     "data": {
      "text/html": [
       "<div>\n",
       "<table border=\"1\" class=\"dataframe\">\n",
       "  <thead>\n",
       "    <tr style=\"text-align: right;\">\n",
       "      <th></th>\n",
       "      <th>member</th>\n",
       "    </tr>\n",
       "  </thead>\n",
       "  <tbody>\n",
       "    <tr>\n",
       "      <th>0</th>\n",
       "      <td>:race_1</td>\n",
       "    </tr>\n",
       "    <tr>\n",
       "      <th>1</th>\n",
       "      <td>ANDERSON VALLEY</td>\n",
       "    </tr>\n",
       "    <tr>\n",
       "      <th>2</th>\n",
       "      <td>OZZY BLUE CHIP</td>\n",
       "    </tr>\n",
       "    <tr>\n",
       "      <th>3</th>\n",
       "      <td>TRILLIONAIR</td>\n",
       "    </tr>\n",
       "    <tr>\n",
       "      <th>4</th>\n",
       "      <td>KDMAKEWAY</td>\n",
       "    </tr>\n",
       "    <tr>\n",
       "      <th>5</th>\n",
       "      <td>PRINCE ADIRAN</td>\n",
       "    </tr>\n",
       "    <tr>\n",
       "      <th>6</th>\n",
       "      <td>SETTINEMONFIRE</td>\n",
       "    </tr>\n",
       "    <tr>\n",
       "      <th>7</th>\n",
       "      <td>:race_3</td>\n",
       "    </tr>\n",
       "    <tr>\n",
       "      <th>8</th>\n",
       "      <td>BETTORSLUCKYSTREAK</td>\n",
       "    </tr>\n",
       "    <tr>\n",
       "      <th>9</th>\n",
       "      <td>LYONS JOHNNY</td>\n",
       "    </tr>\n",
       "    <tr>\n",
       "      <th>10</th>\n",
       "      <td>WINYARD HANOVER</td>\n",
       "    </tr>\n",
       "    <tr>\n",
       "      <th>11</th>\n",
       "      <td>DASH OF DANGER</td>\n",
       "    </tr>\n",
       "    <tr>\n",
       "      <th>12</th>\n",
       "      <td>NEPTUNE</td>\n",
       "    </tr>\n",
       "    <tr>\n",
       "      <th>13</th>\n",
       "      <td>DEE'S ROCKETMAN</td>\n",
       "    </tr>\n",
       "    <tr>\n",
       "      <th>14</th>\n",
       "      <td>:race_2</td>\n",
       "    </tr>\n",
       "    <tr>\n",
       "      <th>15</th>\n",
       "      <td>F TWENTY TWO</td>\n",
       "    </tr>\n",
       "    <tr>\n",
       "      <th>16</th>\n",
       "      <td>GOLD STAR SPIKE</td>\n",
       "    </tr>\n",
       "    <tr>\n",
       "      <th>17</th>\n",
       "      <td>TAILGUNNER HANOVER</td>\n",
       "    </tr>\n",
       "    <tr>\n",
       "      <th>18</th>\n",
       "      <td>FREE LOVE</td>\n",
       "    </tr>\n",
       "    <tr>\n",
       "      <th>19</th>\n",
       "      <td>MACHMEMACKIE</td>\n",
       "    </tr>\n",
       "    <tr>\n",
       "      <th>20</th>\n",
       "      <td>FRANKIES DRAGON</td>\n",
       "    </tr>\n",
       "    <tr>\n",
       "      <th>21</th>\n",
       "      <td>IM AN ART MAJOR</td>\n",
       "    </tr>\n",
       "  </tbody>\n",
       "</table>\n",
       "</div>"
      ],
      "text/plain": [
       "                member\n",
       "0              :race_1\n",
       "1      ANDERSON VALLEY\n",
       "2       OZZY BLUE CHIP\n",
       "3          TRILLIONAIR\n",
       "4            KDMAKEWAY\n",
       "5        PRINCE ADIRAN\n",
       "6       SETTINEMONFIRE\n",
       "7              :race_3\n",
       "8   BETTORSLUCKYSTREAK\n",
       "9         LYONS JOHNNY\n",
       "10     WINYARD HANOVER\n",
       "11      DASH OF DANGER\n",
       "12             NEPTUNE\n",
       "13     DEE'S ROCKETMAN\n",
       "14             :race_2\n",
       "15        F TWENTY TWO\n",
       "16     GOLD STAR SPIKE\n",
       "17  TAILGUNNER HANOVER\n",
       "18           FREE LOVE\n",
       "19        MACHMEMACKIE\n",
       "20     FRANKIES DRAGON\n",
       "21     IM AN ART MAJOR"
      ]
     },
     "execution_count": 20,
     "metadata": {},
     "output_type": "execute_result"
    },
    {
     "name": "stdout",
     "output_type": "stream",
     "text": [
      "time: 52.5 ms\n"
     ]
    }
   ],
   "source": [
    "races.select(\"\"\"\n",
    "    select ?member {\n",
    "       :tioga_downs_2017_08_14 rdfs:member+ ?member\n",
    "    }\n",
    "\"\"\")"
   ]
  },
  {
   "cell_type": "markdown",
   "metadata": {},
   "source": [
    "This gives us the members of `:tioga_downs_2017_08_14`;  all of those are lists,  so we also get the members of those lists."
   ]
  },
  {
   "cell_type": "markdown",
   "metadata": {},
   "source": [
    "### another shorthand for paths\n",
    "\n",
    "Steps of property paths have to be literal URIs,  not variables.  Paths involving variables can be written with the `[ ]` shorthand.  The following query counts all of the race entries,  which is the same as the number of horses in this case:"
   ]
  },
  {
   "cell_type": "code",
   "execution_count": 21,
   "metadata": {
    "collapsed": false
   },
   "outputs": [
    {
     "data": {
      "text/html": [
       "<div>\n",
       "<table border=\"1\" class=\"dataframe\">\n",
       "  <thead>\n",
       "    <tr style=\"text-align: right;\">\n",
       "      <th></th>\n",
       "      <th>count</th>\n",
       "    </tr>\n",
       "  </thead>\n",
       "  <tbody>\n",
       "    <tr>\n",
       "      <th>0</th>\n",
       "      <td>19</td>\n",
       "    </tr>\n",
       "  </tbody>\n",
       "</table>\n",
       "</div>"
      ],
      "text/plain": [
       "   count\n",
       "0     19"
      ]
     },
     "execution_count": 21,
     "metadata": {},
     "output_type": "execute_result"
    },
    {
     "name": "stdout",
     "output_type": "stream",
     "text": [
      "time: 61 ms\n"
     ]
    }
   ],
   "source": [
    "races.select(\"\"\"\n",
    "    select (COUNT(*) AS ?count) {\n",
    "       :tioga_downs_2017_08_14 ?p1 [ ?p2 ?horse] .\n",
    "       ?p1 a rdfs:ContainerMembershipProperty.\n",
    "       ?p2 a rdfs:ContainerMembershipProperty .\n",
    "    }\n",
    "\"\"\")"
   ]
  },
  {
   "cell_type": "markdown",
   "metadata": {},
   "source": [
    "### Who finished in the money?"
   ]
  },
  {
   "cell_type": "markdown",
   "metadata": {},
   "source": [
    "In this case,  the inverse property path makes for a short and sweet query"
   ]
  },
  {
   "cell_type": "code",
   "execution_count": 22,
   "metadata": {
    "collapsed": false
   },
   "outputs": [
    {
     "data": {
      "text/html": [
       "<div>\n",
       "<table border=\"1\" class=\"dataframe\">\n",
       "  <thead>\n",
       "    <tr style=\"text-align: right;\">\n",
       "      <th></th>\n",
       "      <th>race</th>\n",
       "      <th>win</th>\n",
       "      <th>place</th>\n",
       "      <th>show</th>\n",
       "    </tr>\n",
       "  </thead>\n",
       "  <tbody>\n",
       "    <tr>\n",
       "      <th>0</th>\n",
       "      <td>:race_1</td>\n",
       "      <td>PRINCE ADIRAN</td>\n",
       "      <td>KDMAKEWAY</td>\n",
       "      <td>ANDERSON VALLEY</td>\n",
       "    </tr>\n",
       "    <tr>\n",
       "      <th>1</th>\n",
       "      <td>:race_3</td>\n",
       "      <td>LYONS JOHNNY</td>\n",
       "      <td>BETTORSLUCKYSTREAK</td>\n",
       "      <td>DASH OF DANGER</td>\n",
       "    </tr>\n",
       "    <tr>\n",
       "      <th>2</th>\n",
       "      <td>:race_2</td>\n",
       "      <td>MACHMEMACKIE</td>\n",
       "      <td>FREE LOVE</td>\n",
       "      <td>FRANKIES DRAGON</td>\n",
       "    </tr>\n",
       "  </tbody>\n",
       "</table>\n",
       "</div>"
      ],
      "text/plain": [
       "      race            win               place             show\n",
       "0  :race_1  PRINCE ADIRAN           KDMAKEWAY  ANDERSON VALLEY\n",
       "1  :race_3   LYONS JOHNNY  BETTORSLUCKYSTREAK   DASH OF DANGER\n",
       "2  :race_2   MACHMEMACKIE           FREE LOVE  FRANKIES DRAGON"
      ]
     },
     "execution_count": 22,
     "metadata": {},
     "output_type": "execute_result"
    },
    {
     "name": "stdout",
     "output_type": "stream",
     "text": [
      "time: 60 ms\n"
     ]
    }
   ],
   "source": [
    "races.select(\"\"\"\n",
    "    select ?race ?win ?place ?show {\n",
    "       ?race\n",
    "           ^rdfs:member :tioga_downs_2017_08_14 ;\n",
    "           rdf:_1 ?win ;\n",
    "           rdf:_2 ?place ;\n",
    "           rdf:_3 ?show .\n",
    "    }\n",
    "\"\"\")"
   ]
  },
  {
   "cell_type": "markdown",
   "metadata": {},
   "source": [
    "### Distinct counts (for a set of Containers)\n",
    "\n",
    "GROUP BY can be used to count over more than one container.  The following counts distinct members:"
   ]
  },
  {
   "cell_type": "code",
   "execution_count": 23,
   "metadata": {
    "collapsed": false
   },
   "outputs": [
    {
     "data": {
      "text/html": [
       "<div>\n",
       "<table border=\"1\" class=\"dataframe\">\n",
       "  <thead>\n",
       "    <tr style=\"text-align: right;\">\n",
       "      <th></th>\n",
       "      <th>list</th>\n",
       "      <th>count</th>\n",
       "    </tr>\n",
       "  </thead>\n",
       "  <tbody>\n",
       "    <tr>\n",
       "      <th>0</th>\n",
       "      <td>:three_cheers</td>\n",
       "      <td>1</td>\n",
       "    </tr>\n",
       "  </tbody>\n",
       "</table>\n",
       "</div>"
      ],
      "text/plain": [
       "            list  count\n",
       "0  :three_cheers      1"
      ]
     },
     "execution_count": 23,
     "metadata": {},
     "output_type": "execute_result"
    },
    {
     "name": "stdout",
     "output_type": "stream",
     "text": [
      "time: 70 ms\n"
     ]
    }
   ],
   "source": [
    "duplicates.select(\"\"\"\n",
    "    select ?list (count(*) as ?count) {\n",
    "       ?list rdfs:member ?member.\n",
    "    } GROUP BY ?list\n",
    "\"\"\")"
   ]
  },
  {
   "cell_type": "markdown",
   "metadata": {},
   "source": [
    "In the above case there is one result because there is just one container,  but if there are multiple containers,  this pattern gives multiple results:"
   ]
  },
  {
   "cell_type": "code",
   "execution_count": 24,
   "metadata": {
    "collapsed": false
   },
   "outputs": [
    {
     "data": {
      "text/html": [
       "<div>\n",
       "<table border=\"1\" class=\"dataframe\">\n",
       "  <thead>\n",
       "    <tr style=\"text-align: right;\">\n",
       "      <th></th>\n",
       "      <th>race</th>\n",
       "      <th>count</th>\n",
       "    </tr>\n",
       "  </thead>\n",
       "  <tbody>\n",
       "    <tr>\n",
       "      <th>0</th>\n",
       "      <td>:race_1</td>\n",
       "      <td>6</td>\n",
       "    </tr>\n",
       "    <tr>\n",
       "      <th>1</th>\n",
       "      <td>:race_3</td>\n",
       "      <td>6</td>\n",
       "    </tr>\n",
       "    <tr>\n",
       "      <th>2</th>\n",
       "      <td>:race_2</td>\n",
       "      <td>7</td>\n",
       "    </tr>\n",
       "  </tbody>\n",
       "</table>\n",
       "</div>"
      ],
      "text/plain": [
       "      race  count\n",
       "0  :race_1      6\n",
       "1  :race_3      6\n",
       "2  :race_2      7"
      ]
     },
     "execution_count": 24,
     "metadata": {},
     "output_type": "execute_result"
    },
    {
     "name": "stdout",
     "output_type": "stream",
     "text": [
      "time: 53 ms\n"
     ]
    }
   ],
   "source": [
    "races.select(\"\"\"\n",
    "    select ?race (count(*) as ?count) {\n",
    "       ?race \n",
    "            ^rdfs:member :tioga_downs_2017_08_14 ;\n",
    "             rdfs:member ?horse\n",
    "    } GROUP BY ?race\n",
    "\"\"\")"
   ]
  },
  {
   "cell_type": "markdown",
   "metadata": {},
   "source": [
    "### List of (not) distinct counts\n",
    "\n",
    "If the members of the container are not unique,  some occur multiple times,  and the count of members is greater than the distinct member count. This query counts multiple occurences of members."
   ]
  },
  {
   "cell_type": "code",
   "execution_count": 25,
   "metadata": {
    "collapsed": false
   },
   "outputs": [
    {
     "data": {
      "text/html": [
       "<div>\n",
       "<table border=\"1\" class=\"dataframe\">\n",
       "  <thead>\n",
       "    <tr style=\"text-align: right;\">\n",
       "      <th></th>\n",
       "      <th>list</th>\n",
       "      <th>count</th>\n",
       "    </tr>\n",
       "  </thead>\n",
       "  <tbody>\n",
       "    <tr>\n",
       "      <th>0</th>\n",
       "      <td>:three_cheers</td>\n",
       "      <td>3</td>\n",
       "    </tr>\n",
       "  </tbody>\n",
       "</table>\n",
       "</div>"
      ],
      "text/plain": [
       "            list  count\n",
       "0  :three_cheers      3"
      ]
     },
     "execution_count": 25,
     "metadata": {},
     "output_type": "execute_result"
    },
    {
     "name": "stdout",
     "output_type": "stream",
     "text": [
      "time: 67 ms\n"
     ]
    }
   ],
   "source": [
    "duplicates.select(\"\"\"\n",
    "    select ?list (count(*) as ?count) {\n",
    "       ?list ?p ?member.\n",
    "       ?p a rdfs:ContainerMembershipProperty .\n",
    "    } GROUP BY ?list\n",
    "\"\"\")"
   ]
  },
  {
   "cell_type": "code",
   "execution_count": 26,
   "metadata": {
    "collapsed": false
   },
   "outputs": [
    {
     "data": {
      "text/html": [
       "<div>\n",
       "<table border=\"1\" class=\"dataframe\">\n",
       "  <thead>\n",
       "    <tr style=\"text-align: right;\">\n",
       "      <th></th>\n",
       "      <th>race</th>\n",
       "      <th>count</th>\n",
       "    </tr>\n",
       "  </thead>\n",
       "  <tbody>\n",
       "    <tr>\n",
       "      <th>0</th>\n",
       "      <td>:race_1</td>\n",
       "      <td>6</td>\n",
       "    </tr>\n",
       "    <tr>\n",
       "      <th>1</th>\n",
       "      <td>:race_3</td>\n",
       "      <td>6</td>\n",
       "    </tr>\n",
       "    <tr>\n",
       "      <th>2</th>\n",
       "      <td>:race_2</td>\n",
       "      <td>7</td>\n",
       "    </tr>\n",
       "  </tbody>\n",
       "</table>\n",
       "</div>"
      ],
      "text/plain": [
       "      race  count\n",
       "0  :race_1      6\n",
       "1  :race_3      6\n",
       "2  :race_2      7"
      ]
     },
     "execution_count": 26,
     "metadata": {},
     "output_type": "execute_result"
    },
    {
     "name": "stdout",
     "output_type": "stream",
     "text": [
      "time: 73 ms\n"
     ]
    }
   ],
   "source": [
    "races.select(\"\"\"\n",
    "    select ?race (count(*) as ?count) {\n",
    "       ?race \n",
    "            ^rdfs:member :tioga_downs_2017_08_14 ;\n",
    "            ?rdfN ?horse .\n",
    "       ?rdfN a rdfs:ContainerMembershipProperty . \n",
    "    } GROUP BY ?race\n",
    "\"\"\")"
   ]
  },
  {
   "cell_type": "markdown",
   "metadata": {},
   "source": [
    "### Find containers with a certain number of distinct members\n",
    "\n",
    "This query involves a subquery.  Subqueries in SPARQL are very general;  most queries you can imagine can be done with subqueries in SPARQL.\n",
    "\n",
    "This example is simple,  using the subquery mechanism to accomplish something like the `HAVING` clause in SQL.  I put the query immediately above into another query which filters for a containers of length 6."
   ]
  },
  {
   "cell_type": "code",
   "execution_count": 27,
   "metadata": {
    "collapsed": false
   },
   "outputs": [
    {
     "data": {
      "text/html": [
       "<div>\n",
       "<table border=\"1\" class=\"dataframe\">\n",
       "  <thead>\n",
       "    <tr style=\"text-align: right;\">\n",
       "      <th></th>\n",
       "      <th>race</th>\n",
       "    </tr>\n",
       "  </thead>\n",
       "  <tbody>\n",
       "    <tr>\n",
       "      <th>0</th>\n",
       "      <td>:race_1</td>\n",
       "    </tr>\n",
       "    <tr>\n",
       "      <th>1</th>\n",
       "      <td>:race_3</td>\n",
       "    </tr>\n",
       "  </tbody>\n",
       "</table>\n",
       "</div>"
      ],
      "text/plain": [
       "      race\n",
       "0  :race_1\n",
       "1  :race_3"
      ]
     },
     "execution_count": 27,
     "metadata": {},
     "output_type": "execute_result"
    },
    {
     "name": "stdout",
     "output_type": "stream",
     "text": [
      "time: 92 ms\n"
     ]
    }
   ],
   "source": [
    "races.select(\"\"\"\n",
    "    select ?race {\n",
    "        {\n",
    "            select ?race (count(*) as ?count) {\n",
    "               ?race \n",
    "                    ^rdfs:member :tioga_downs_2017_08_14 ;\n",
    "                    ?rdfN ?horse .\n",
    "               ?rdfN a rdfs:ContainerMembershipProperty . \n",
    "            } GROUP BY ?race\n",
    "        }\n",
    "        FILTER(?count=6)\n",
    "    }\n",
    "\"\"\")"
   ]
  },
  {
   "cell_type": "markdown",
   "metadata": {},
   "source": [
    "### Counting with a subquery\n",
    "\n",
    "Some people might find the \"list of counts\" examples to be awkward because what is done in one place in many programming languages (ex. Python)\n",
    "\n",
    "```\n",
    "len(some_list)\n",
    "```\n",
    "\n",
    "as opposed to (1) an aggregate operation in the `select` clause of the query,  (2) a pattern involving `rdfs:member` or `rdfs:ContainerMembershipProperty)` and (3) a `GROUP BY` clause.  A subquery can bring these elements closer together,  like so:"
   ]
  },
  {
   "cell_type": "code",
   "execution_count": 28,
   "metadata": {
    "collapsed": false
   },
   "outputs": [
    {
     "data": {
      "text/html": [
       "<div>\n",
       "<table border=\"1\" class=\"dataframe\">\n",
       "  <thead>\n",
       "    <tr style=\"text-align: right;\">\n",
       "      <th></th>\n",
       "      <th>race</th>\n",
       "      <th>length</th>\n",
       "    </tr>\n",
       "  </thead>\n",
       "  <tbody>\n",
       "    <tr>\n",
       "      <th>0</th>\n",
       "      <td>:race_1</td>\n",
       "      <td>6</td>\n",
       "    </tr>\n",
       "    <tr>\n",
       "      <th>1</th>\n",
       "      <td>:race_3</td>\n",
       "      <td>6</td>\n",
       "    </tr>\n",
       "    <tr>\n",
       "      <th>2</th>\n",
       "      <td>:race_2</td>\n",
       "      <td>7</td>\n",
       "    </tr>\n",
       "  </tbody>\n",
       "</table>\n",
       "</div>"
      ],
      "text/plain": [
       "      race  length\n",
       "0  :race_1       6\n",
       "1  :race_3       6\n",
       "2  :race_2       7"
      ]
     },
     "execution_count": 28,
     "metadata": {},
     "output_type": "execute_result"
    },
    {
     "name": "stdout",
     "output_type": "stream",
     "text": [
      "time: 105 ms\n"
     ]
    }
   ],
   "source": [
    "races.select(\"\"\"\n",
    "    select ?race ?length {\n",
    "        :tioga_downs_2017_08_14 rdfs:member ?race .\n",
    "        {\n",
    "            select (count(*) as ?length) {\n",
    "                ?race rdfs:member ?horse\n",
    "            }\n",
    "        }\n",
    "    }\n",
    "\"\"\")"
   ]
  },
  {
   "cell_type": "markdown",
   "metadata": {},
   "source": [
    "Here the subquery\n",
    "\n",
    "```\n",
    "        {\n",
    "            select (count(*) as ?length) {\n",
    "                ?race rdfs:member ?horse\n",
    "            }\n",
    "        }\n",
    "```\n",
    "\n",
    "works much like the `len()` function in Python,  and could be reused,  like a macro,  as part of a more complex query wherever one wishes to compute a distinct count."
   ]
  },
  {
   "cell_type": "markdown",
   "metadata": {},
   "source": [
    "# Conclusion\n",
    "\n",
    "SPARQL does not provide the typical functions for ordered collections,  such as counting the members (counting or not counting duplicates.)  Fortunately,  the implementation of RDF Containers is conceptually simple and it is possible to implement those functions based on first principles.  However,  this is one of the things you don't want to think about each time you write a query.  This article proposes two answers that work together to make queries against containers easier:\n",
    "\n",
    "1. A partial implementation of RDFS inference that simplifies queries over containers (and)\n",
    "2. A set of sample queries that explores the landscape and offers a set of patterns that can be used to write common (and not so common) queries\n",
    "\n",
    "As such,  it develops a completely transparent case of an RDF inference engine that assists the query writer,  illustrating the value of RDF inference."
   ]
  }
 ],
 "metadata": {
  "kernelspec": {
   "display_name": "Python 3",
   "language": "python",
   "name": "python3"
  },
  "language_info": {
   "codemirror_mode": {
    "name": "ipython",
    "version": 3
   },
   "file_extension": ".py",
   "mimetype": "text/x-python",
   "name": "python",
   "nbconvert_exporter": "python",
   "pygments_lexer": "ipython3",
   "version": "3.6.0"
  }
 },
 "nbformat": 4,
 "nbformat_minor": 2
}
